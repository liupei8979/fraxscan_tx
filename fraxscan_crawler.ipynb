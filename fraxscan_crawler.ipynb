{
 "cells": [
  {
   "cell_type": "code",
   "execution_count": 19,
   "id": "5d98aadc-49cc-4cef-ae6c-7043732eab6c",
   "metadata": {},
   "outputs": [
    {
     "name": "stdout",
     "output_type": "stream",
     "text": [
      "Combined CSV saved as combined_transactions.csv\n"
     ]
    }
   ],
   "source": [
    "import time\n",
    "import os\n",
    "import glob\n",
    "import pandas as pd\n",
    "from selenium import webdriver\n",
    "from selenium.webdriver.common.by import By\n",
    "from selenium.webdriver.chrome.service import Service\n",
    "from webdriver_manager.chrome import ChromeDriverManager\n",
    "\n",
    "options = webdriver.ChromeOptions()\n",
    "download_dir = os.path.join(os.path.expanduser(\"~\"), \"Downloads\", \"fraxscan\")  # Adjust to a writable directory\n",
    "prefs = {\"download.default_directory\": download_dir}\n",
    "options.add_experimental_option(\"prefs\", prefs)\n",
    "\n",
    "driver = webdriver.Chrome(service=Service(ChromeDriverManager().install()), options=options)\n",
    "\n",
    "base_url = 'https://fraxscan.com/txs?p='\n",
    "\n",
    "\n",
    "def download_csv_from_page(page):\n",
    "    url = f'{base_url}{page}'\n",
    "    driver.get(url)\n",
    "    time.sleep(3)  \n",
    "    try:\n",
    "        download_button = driver.find_element(By.ID, 'btnExportQuickTransactionListCSV')\n",
    "        download_button.click()\n",
    "        time.sleep(5)  \n",
    "    except Exception as e:\n",
    "        print(f\"Failed to download data from page {page}: {e}\")\n",
    "\n",
    "\n",
    "os.makedirs(download_dir, exist_ok=True)\n",
    "\n",
    "\n",
    "for page in range(1, 100):  \n",
    "    download_csv_from_page(page)\n",
    "\n",
    "driver.quit()\n",
    "\n",
    "# Concatenate downloaded CSVs\n",
    "all_files = glob.glob(os.path.join(download_dir, \"*.csv\"))\n",
    "\n",
    "df_list = []\n",
    "for filename in all_files:\n",
    "    df = pd.read_csv(filename)\n",
    "    df_list.append(df)\n",
    "\n",
    "concatenated_df = pd.concat(df_list, ignore_index=True)\n",
    "concatenated_df.to_csv('combined_transactions_100.csv', index=False)\n",
    "\n",
    "print(\"Combined CSV saved as combined_transactions.csv\")\n",
    "\n"
   ]
  },
  {
   "cell_type": "code",
   "execution_count": null,
   "id": "554a80ad-b325-411a-9e88-a0b19bf86afd",
   "metadata": {},
   "outputs": [],
   "source": []
  }
 ],
 "metadata": {
  "kernelspec": {
   "display_name": "Python 3 (ipykernel)",
   "language": "python",
   "name": "python3"
  },
  "language_info": {
   "codemirror_mode": {
    "name": "ipython",
    "version": 3
   },
   "file_extension": ".py",
   "mimetype": "text/x-python",
   "name": "python",
   "nbconvert_exporter": "python",
   "pygments_lexer": "ipython3",
   "version": "3.11.7"
  }
 },
 "nbformat": 4,
 "nbformat_minor": 5
}
